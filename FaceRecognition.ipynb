{
 "cells": [
  {
   "cell_type": "markdown",
   "id": "6f4571f6-004a-4282-9fe6-c66c76329ff5",
   "metadata": {},
   "source": [
    "# Tiền xử lí"
   ]
  },
  {
   "cell_type": "code",
   "execution_count": 1,
   "id": "73f256df-6bb1-4aa2-b6b4-24aa111fab2c",
   "metadata": {},
   "outputs": [],
   "source": [
    "import cv2\n",
    "import os"
   ]
  },
  {
   "cell_type": "code",
   "execution_count": null,
   "id": "947ed20b-235c-4532-9548-8d16e197da9d",
   "metadata": {},
   "outputs": [],
   "source": [
    "face_cascade = cv2.CascadeClassifier('haarcascades/haarcascade_frontalface_alt.xml')"
   ]
  },
  {
   "cell_type": "code",
   "execution_count": null,
   "id": "e94d043f-850b-49ca-8fe7-03a477c944d2",
   "metadata": {},
   "outputs": [],
   "source": [
    "def extract_faces_from_image(image_path, output_path, face_count):\n",
    "    print(f\"Processing image: {image_path}\")\n",
    "    img = cv2.imread(image_path)\n",
    "    faces = face_cascade.detectMultiScale(img, scaleFactor=1.3, minNeighbors=5)\n",
    "    for (x, y, w, h) in faces:\n",
    "        face = cv2.resize(img[y+1:y+h-1, x+1:x+w-1], (128, 128))\n",
    "        face_count += 1\n",
    "        cv2.imwrite(f'{output_path}/face_{face_count}.jpg', face)\n",
    "    return face_count"
   ]
  },
  {
   "cell_type": "code",
   "execution_count": null,
   "id": "490287d8-3b9b-4281-9618-89172bb92e39",
   "metadata": {},
   "outputs": [],
   "source": [
    "def extract_faces_from_video(video_path, output_path, face_count):\n",
    "    print(f\"Processing video: {video_path}\")\n",
    "    cap = cv2.VideoCapture(video_path)\n",
    "\n",
    "    if not cap.isOpened():\n",
    "        print(f\"Can't open {video_path}\")\n",
    "        return face_count\n",
    "\n",
    "    while True:\n",
    "        ret, frame = cap.read()\n",
    "        if not ret:\n",
    "            break\n",
    "        faces = face_cascade.detectMultiScale(frame, scaleFactor=1.3, minNeighbors=5)\n",
    "        for (x, y, w, h) in faces:\n",
    "            roi = cv2.resize(frame[y+1:y+h-1, x+1:x+w-1], (128, 128))\n",
    "            face_count += 1\n",
    "            cv2.imwrite(f'{output_path}/face_{face_count}.jpg', roi)\n",
    "        if cv2.waitKey(1) & 0xFF == ord('q'):\n",
    "            break\n",
    "\n",
    "    cap.release()\n",
    "    cv2.destroyAllWindows()\n",
    "    return face_count"
   ]
  },
  {
   "cell_type": "code",
   "execution_count": null,
   "id": "2be8b988-da65-4f43-8da4-c9debe74bd75",
   "metadata": {},
   "outputs": [],
   "source": [
    "def process_data_directory(data_path):\n",
    "    for category in os.listdir(data_path):\n",
    "        if category != '.DS_Store':\n",
    "            category_path = os.path.join(data_path, category)\n",
    "            face_count = 0\n",
    "            output_path = category_path.replace('dataRaw', 'dataset')\n",
    "            \n",
    "            os.makedirs(output_path, exist_ok=True)\n",
    "\n",
    "            for data_item in os.listdir(category_path):\n",
    "                if data_item != '.DS_Store':\n",
    "                    item_path = os.path.join(category_path, data_item)\n",
    "\n",
    "                    if item_path.endswith('.mp4'):\n",
    "                        face_count = extract_faces_from_video(item_path, output_path, face_count)\n",
    "\n",
    "                    if item_path.endswith(('.jpg', '.png', '.jpeg')):\n",
    "                        face_count = extract_faces_from_image(item_path, output_path, face_count)\n",
    "\n",
    "            print(f\"Total faces in {category}: {face_count}\")"
   ]
  },
  {
   "cell_type": "code",
   "execution_count": null,
   "id": "9cfde33d-f5d8-4ffe-87b6-9caad6039f1e",
   "metadata": {},
   "outputs": [
    {
     "name": "stdout",
     "output_type": "stream",
     "text": [
      "Processing video: dataRaw/train_data/Justin Bieber/justinbieber.mp4\n",
      "Total faces in Justin Bieber: 1694\n",
      "Processing video: dataRaw/train_data/David Beckham/davidbekham.mp4\n",
      "Total faces in David Beckham: 878\n",
      "Processing image: dataRaw/train_data/Reus/image.jpg\n",
      "Processing video: dataRaw/train_data/Reus/reus.mp4\n",
      "Total faces in Reus: 913\n",
      "Processing video: dataRaw/train_data/Ronaldo/ronaldo.mp4\n",
      "Total faces in Ronaldo: 2233\n",
      "Processing video: dataRaw/train_data/Messi/messi.mp4\n",
      "Total faces in Messi: 1638\n",
      "Processing video: dataRaw/train_data/Son Tung/sontung.mp4\n",
      "Total faces in Son Tung: 1298\n",
      "Processing video: dataRaw/train_data/G-Dragon/GD.mp4\n",
      "Total faces in G-Dragon: 1743\n",
      "Processing image: dataRaw/test_data/Justin Bieber/Justin-Bieber-0.jpg\n",
      "Processing image: dataRaw/test_data/Justin Bieber/images (13).jpg\n",
      "Processing image: dataRaw/test_data/Justin Bieber/jbasdf.jpg\n",
      "Processing image: dataRaw/test_data/Justin Bieber/Ca-Si-Justin-Bieber.jpg\n",
      "Processing image: dataRaw/test_data/Justin Bieber/justin-bieber-151.jpg\n",
      "Processing image: dataRaw/test_data/Justin Bieber/Justin-Bieber-2013.jpg\n",
      "Processing image: dataRaw/test_data/Justin Bieber/jb.jpg\n",
      "Processing image: dataRaw/test_data/Justin Bieber/images (14).jpg\n",
      "Processing image: dataRaw/test_data/Justin Bieber/jb1-2584.jpg\n",
      "Processing image: dataRaw/test_data/Justin Bieber/images (15).jpg\n",
      "Total faces in Justin Bieber: 8\n",
      "Processing image: dataRaw/test_data/David Beckham/David-et-Victoria-Beckham-bientot-Parisiens.jpg\n",
      "Processing image: dataRaw/test_data/David Beckham/david beckham makeup tutorial.jpg\n",
      "Processing image: dataRaw/test_data/David Beckham/Becks.jpg\n",
      "Processing image: dataRaw/test_data/David Beckham/images (3).jpg\n",
      "Processing image: dataRaw/test_data/David Beckham/images (6).jpg\n",
      "Processing image: dataRaw/test_data/David Beckham/David-Beckham1-1-1618303113.jpg\n",
      "Processing image: dataRaw/test_data/David Beckham/_118012936_beckham_getty.jpg\n",
      "Processing image: dataRaw/test_data/David Beckham/images (4).jpg\n",
      "Processing image: dataRaw/test_data/David Beckham/amh.jpg\n",
      "Processing image: dataRaw/test_data/David Beckham/images (5).jpg\n",
      "Processing image: dataRaw/test_data/David Beckham/GettyImages-857319498.jpg\n",
      "Processing image: dataRaw/test_data/David Beckham/a1f88b4a3c5c5b6761438553fe38ab872d9f59cc.jpg\n",
      "Total faces in David Beckham: 10\n",
      "Processing image: dataRaw/test_data/Reus/images (10).jpg\n",
      "Processing image: dataRaw/test_data/Reus/1434364974-531030113_the-thao_reus_dan-viet2.jpg\n",
      "Processing image: dataRaw/test_data/Reus/REUS1.jpg\n",
      "Processing image: dataRaw/test_data/Reus/3aaacad600000578-3961914-image-m-40-1479854766733-1479859759477.jpg\n",
      "Processing image: dataRaw/test_data/Reus/images (9).jpg\n",
      "Processing image: dataRaw/test_data/Reus/images (12).jpg\n",
      "Processing image: dataRaw/test_data/Reus/Reus.jpg\n",
      "Processing image: dataRaw/test_data/Reus/Borussia_Dortmund_M._Reus_002.jpg\n",
      "Processing image: dataRaw/test_data/Reus/images (7).jpg\n",
      "Processing image: dataRaw/test_data/Reus/image.jpg\n",
      "Processing image: dataRaw/test_data/Reus/images (8).jpg\n",
      "Processing image: dataRaw/test_data/Reus/1482423492.jpg\n",
      "Processing image: dataRaw/test_data/Reus/marco-reus-mu-616.jpg\n",
      "Processing image: dataRaw/test_data/Reus/97ead319a2970472c9f5cca59416ca65.jpg\n",
      "Processing image: dataRaw/test_data/Reus/images (11).jpg\n",
      "Total faces in Reus: 15\n",
      "Processing image: dataRaw/test_data/Ronaldo/t5mex3dyn30xi3ox6ii5.jpg\n",
      "Processing image: dataRaw/test_data/Ronaldo/1ce4ae59f1db9109f063aad7ad4d62c8Y29udGVudHNlYXJjaGFwaSwxNjgzMzY4MzY4-2.70628855.jpg\n",
      "Processing image: dataRaw/test_data/Ronaldo/a466e108-e819-4fbd-b418-8a33fbc127a7.jpg\n",
      "Processing image: dataRaw/test_data/Ronaldo/cristiano-ronaldo-pourrait-evoluer-a-al-nassr-apres-le-mondial-photo-sipa-andrew-surma-1669797494.jpg\n",
      "Processing image: dataRaw/test_data/Ronaldo/roando.jpg\n",
      "Processing image: dataRaw/test_data/Ronaldo/16387540-728xauto.jpg\n",
      "Processing image: dataRaw/test_data/Ronaldo/images (1).jpg\n",
      "Processing image: dataRaw/test_data/Ronaldo/ronaldo-al-nassr-1156.jpg\n",
      "Processing image: dataRaw/test_data/Ronaldo/images (2).jpg\n",
      "Processing image: dataRaw/test_data/Ronaldo/cristiano-ronaldo-chot-thoi-diem-ket-thuc-su-nghiep-42-145653.jpg\n",
      "Total faces in Ronaldo: 8\n",
      "Processing image: dataRaw/test_data/Messi/4B4ALEPEEVD3TN76KTWF43A5ZM.jpg\n",
      "Processing image: dataRaw/test_data/Messi/26622.jpg\n",
      "Processing image: dataRaw/test_data/Messi/messi-181222.jpg\n",
      "Processing image: dataRaw/test_data/Messi/images.jpg\n",
      "Processing image: dataRaw/test_data/Messi/messi.jpg\n",
      "Total faces in Messi: 4\n",
      "Processing image: dataRaw/test_data/Son Tung/anh1.jpg\n",
      "Processing image: dataRaw/test_data/Son Tung/son-tung-m-tp-bi-phat-70-trieu-phong-sat-cung-khong-oan-84e3c9ae40be42dfb7fe76c8de70153d.jpg\n",
      "Processing image: dataRaw/test_data/Son Tung/son-tung-mtp.jpg\n",
      "Processing image: dataRaw/test_data/Son Tung/chon-loc-25-anh-dep-nhat-cua-son-tung-m-tp_6.jpg\n",
      "Processing image: dataRaw/test_data/Son Tung/son-tung-mtp-08110778-1651217357607701319631.jpg\n",
      "Processing image: dataRaw/test_data/Son Tung/son-tung-mtp-lan-mat-tam-hon-1-nam-2-thang-chuyen-gi-da-xay-ra-2-15766471244331034980603.jpg\n",
      "Total faces in Son Tung: 4\n",
      "Processing image: dataRaw/test_data/G-Dragon/da780c6083fb11e7962fa73033cd450c.jpg\n",
      "Processing image: dataRaw/test_data/G-Dragon/yg-3.jpg\n",
      "Processing image: dataRaw/test_data/G-Dragon/images (16).jpg\n",
      "Processing image: dataRaw/test_data/G-Dragon/wqyyek2pphg14itv6qyb.jpg\n",
      "Processing image: dataRaw/test_data/G-Dragon/4-ngoi-sao-nhuom-toc-cam-dep-dinh-cao-trong-lich-su-kpop-b64-5345753.jpg\n",
      "Processing image: dataRaw/test_data/G-Dragon/1C66E727-8352-463C-B.jpg\n",
      "Processing image: dataRaw/test_data/G-Dragon/5a48b4664764daad177a3c0732b9786511ad2012_hq_1.jpg\n",
      "Processing image: dataRaw/test_data/G-Dragon/1679490349-gd.jpg\n",
      "Total faces in G-Dragon: 7\n"
     ]
    }
   ],
   "source": [
    "# Process training and testing data directories\n",
    "data_train_path = 'dataRaw/train_data'\n",
    "data_test_path = 'dataRaw/test_data'\n",
    "\n",
    "process_data_directory(data_train_path)\n",
    "process_data_directory(data_test_path)"
   ]
  },
  {
   "cell_type": "markdown",
   "id": "cec016e9-fa1b-4524-b29c-28e01cb6be36",
   "metadata": {},
   "source": [
    "# Huấn luyện mô hình"
   ]
  },
  {
   "cell_type": "code",
   "execution_count": 2,
   "id": "125a98c9-243b-4757-b2f6-5e0b9b0d90bc",
   "metadata": {
    "scrolled": true
   },
   "outputs": [
    {
     "name": "stderr",
     "output_type": "stream",
     "text": [
      "2023-12-02 18:04:33.571359: I tensorflow/tsl/cuda/cudart_stub.cc:28] Could not find cuda drivers on your machine, GPU will not be used.\n",
      "2023-12-02 18:04:33.725566: I tensorflow/tsl/cuda/cudart_stub.cc:28] Could not find cuda drivers on your machine, GPU will not be used.\n",
      "2023-12-02 18:04:33.726366: I tensorflow/core/platform/cpu_feature_guard.cc:182] This TensorFlow binary is optimized to use available CPU instructions in performance-critical operations.\n",
      "To enable the following instructions: AVX2 FMA, in other operations, rebuild TensorFlow with the appropriate compiler flags.\n",
      "2023-12-02 18:04:34.668130: W tensorflow/compiler/tf2tensorrt/utils/py_utils.cc:38] TF-TRT Warning: Could not find TensorRT\n"
     ]
    }
   ],
   "source": [
    "import numpy as np\n",
    "import os\n",
    "import tensorflow as tf\n",
    "from tensorflow.keras import layers, models\n",
    "from tensorflow.keras.utils import to_categorical\n",
    "import matplotlib.pyplot as plt\n",
    "from PIL import Image"
   ]
  },
  {
   "cell_type": "code",
   "execution_count": 3,
   "id": "4d43bac6-1573-406c-aa9d-317d0d8134c2",
   "metadata": {},
   "outputs": [
    {
     "name": "stdout",
     "output_type": "stream",
     "text": [
      "2.12.0\n"
     ]
    }
   ],
   "source": [
    "TRAIN_DATA = 'dataset/train_data'\n",
    "TEST_DATA = 'dataset/test_data'\n",
    "print(tf.__version__)"
   ]
  },
  {
   "cell_type": "code",
   "execution_count": 4,
   "id": "23ab6d87-613e-4f49-863d-9a0364368ae5",
   "metadata": {},
   "outputs": [],
   "source": [
    "classes = []\n",
    "\n",
    "# Lists to store data for training and testing\n",
    "xtrain = []\n",
    "ytrain = []\n",
    "xtest = []\n",
    "ytest = []\n",
    "\n",
    "# Dictionary to map class names to labels\n",
    "dictionary = {}\n",
    "np.random.seed(5)"
   ]
  },
  {
   "cell_type": "code",
   "execution_count": 5,
   "id": "fc65f751-9a27-46bd-a065-5f99491ebd8e",
   "metadata": {},
   "outputs": [],
   "source": [
    "#Get Dictionary from Data\n",
    "class Dictionary:\n",
    "    def __init__(self, path):\n",
    "        self.path = path\n",
    "        self.dictionary = {}\n",
    "    def operate(self):\n",
    "        number = 0\n",
    "        for name in os.listdir(self.path):\n",
    "            if not name.startswith('.'):\n",
    "                self.dictionary[name] = number\n",
    "                number += 1\n",
    "        return self.dictionary"
   ]
  },
  {
   "cell_type": "code",
   "execution_count": 6,
   "id": "779f01d6-7b8a-4c81-b31e-158669c24664",
   "metadata": {},
   "outputs": [],
   "source": [
    "# Example debugging in the Data class\n",
    "class Data:\n",
    "    def __init__(self, path, dictionary):\n",
    "        self.path = path\n",
    "        self.dictionary = dictionary\n",
    "        self.input = []\n",
    "        self.label = []\n",
    "        self.listData = []\n",
    "\n",
    "    def getData(self):\n",
    "        for whatever in os.listdir(self.path):\n",
    "            if whatever != '.DS_Store':\n",
    "                label = whatever\n",
    "                whatever_path = os.path.join(self.path, whatever)\n",
    "                list_data_filename_path = []\n",
    "                \n",
    "                for filename in os.listdir(whatever_path):\n",
    "                    if filename != '.DS_Store':\n",
    "                        filename_path = os.path.join(whatever_path, filename)\n",
    "                        if filename_path.endswith(('.jpg', '.png', '.jpeg')):\n",
    "                            img = np.array(Image.open(filename_path))\n",
    "                            list_data_filename_path.append((img, self.dictionary[label]))\n",
    "\n",
    "                self.listData.extend(list_data_filename_path)\n",
    "        return self.listData\n",
    "\n",
    "    def operate(self):\n",
    "        self.listData = self.getData()\n",
    "        np.random.shuffle(self.listData)\n",
    "        for Data in self.listData:\n",
    "            self.input.append(np.array(Data[0])) \n",
    "            self.label.append(Data[1])\n",
    "        return self.input, self.label"
   ]
  },
  {
   "cell_type": "code",
   "execution_count": 9,
   "id": "9f1ff29a-c6ec-4b18-b583-ec4a62258d7c",
   "metadata": {},
   "outputs": [
    {
     "name": "stdout",
     "output_type": "stream",
     "text": [
      "{'Justin Bieber': 0, 'David Beckham': 1, 'Reus': 2, 'Ronaldo': 3, 'Messi': 4, 'Son Tung': 5, 'G-Dragon': 6}\n"
     ]
    }
   ],
   "source": [
    "dictionary = Dictionary(TRAIN_DATA).operate()\n",
    "classes = list(dictionary.keys())\n",
    "print(dictionary)"
   ]
  },
  {
   "cell_type": "code",
   "execution_count": 10,
   "id": "d6fd2e4a-1e4a-450e-a35b-a3a3c0bfbdae",
   "metadata": {},
   "outputs": [
    {
     "name": "stdout",
     "output_type": "stream",
     "text": [
      "['Justin Bieber', 'David Beckham', 'Reus', 'Ronaldo', 'Messi', 'Son Tung', 'G-Dragon']\n"
     ]
    }
   ],
   "source": [
    "print(os.listdir('dataset/train_data'))"
   ]
  },
  {
   "cell_type": "code",
   "execution_count": 2,
   "id": "70de9664-b712-41df-b295-c314324371d7",
   "metadata": {},
   "outputs": [
    {
     "ename": "NameError",
     "evalue": "name 'Data' is not defined",
     "output_type": "error",
     "traceback": [
      "\u001b[0;31m---------------------------------------------------------------------------\u001b[0m",
      "\u001b[0;31mNameError\u001b[0m                                 Traceback (most recent call last)",
      "\u001b[1;32m/home/truonghoang/Documents/Code/ML/FaceRecognition/FaceRecognition.ipynb Cell 16\u001b[0m line \u001b[0;36m2\n\u001b[1;32m      <a href='vscode-notebook-cell:/home/truonghoang/Documents/Code/ML/FaceRecognition/FaceRecognition.ipynb#X22sZmlsZQ%3D%3D?line=0'>1</a>\u001b[0m \u001b[39m# Example usage with debugging\u001b[39;00m\n\u001b[0;32m----> <a href='vscode-notebook-cell:/home/truonghoang/Documents/Code/ML/FaceRecognition/FaceRecognition.ipynb#X22sZmlsZQ%3D%3D?line=1'>2</a>\u001b[0m xtrain, list_train \u001b[39m=\u001b[39m Data(TRAIN_DATA, dictionary)\u001b[39m.\u001b[39moperate()\n\u001b[1;32m      <a href='vscode-notebook-cell:/home/truonghoang/Documents/Code/ML/FaceRecognition/FaceRecognition.ipynb#X22sZmlsZQ%3D%3D?line=2'>3</a>\u001b[0m xtest, list_test \u001b[39m=\u001b[39m Data(TEST_DATA, dictionary)\u001b[39m.\u001b[39moperate()\n",
      "\u001b[0;31mNameError\u001b[0m: name 'Data' is not defined"
     ]
    }
   ],
   "source": [
    "# Example usage with debugging\n",
    "xtrain, list_train = Data(TRAIN_DATA, dictionary).operate()\n",
    "xtest, list_test = Data(TEST_DATA, dictionary).operate()"
   ]
  },
  {
   "cell_type": "code",
   "execution_count": 1,
   "id": "f57e8702-e615-4687-9008-6c3c61095565",
   "metadata": {},
   "outputs": [
    {
     "ename": "NameError",
     "evalue": "name 'xtrain' is not defined",
     "output_type": "error",
     "traceback": [
      "\u001b[0;31m---------------------------------------------------------------------------\u001b[0m",
      "\u001b[0;31mNameError\u001b[0m                                 Traceback (most recent call last)",
      "\u001b[1;32m/home/truonghoang/Documents/Code/ML/FaceRecognition/FaceRecognition.ipynb Cell 17\u001b[0m line \u001b[0;36m1\n\u001b[0;32m----> <a href='vscode-notebook-cell:/home/truonghoang/Documents/Code/ML/FaceRecognition/FaceRecognition.ipynb#X23sZmlsZQ%3D%3D?line=0'>1</a>\u001b[0m \u001b[39mprint\u001b[39m(\u001b[39mlen\u001b[39m(xtrain))\n\u001b[1;32m      <a href='vscode-notebook-cell:/home/truonghoang/Documents/Code/ML/FaceRecognition/FaceRecognition.ipynb#X23sZmlsZQ%3D%3D?line=1'>2</a>\u001b[0m \u001b[39mprint\u001b[39m(\u001b[39mlen\u001b[39m(xtest))\n\u001b[1;32m      <a href='vscode-notebook-cell:/home/truonghoang/Documents/Code/ML/FaceRecognition/FaceRecognition.ipynb#X23sZmlsZQ%3D%3D?line=2'>3</a>\u001b[0m \u001b[39mprint\u001b[39m(tf\u001b[39m.\u001b[39m__version__)\n",
      "\u001b[0;31mNameError\u001b[0m: name 'xtrain' is not defined"
     ]
    }
   ],
   "source": [
    "print(len(xtrain))\n",
    "print(len(xtest))"
   ]
  },
  {
   "cell_type": "code",
   "execution_count": 13,
   "id": "9ccc4259-e268-4fae-b185-8a9c79d15d85",
   "metadata": {},
   "outputs": [
    {
     "ename": "",
     "evalue": "",
     "output_type": "error",
     "traceback": [
      "\u001b[1;31mThe Kernel crashed while executing code in the the current cell or a previous cell. Please review the code in the cell(s) to identify a possible cause of the failure. Click <a href='https://aka.ms/vscodeJupyterKernelCrash'>here</a> for more info. View Jupyter <a href='command:jupyter.viewOutput'>log</a> for further details."
     ]
    }
   ],
   "source": [
    "# Normalize data to the range [0, 1]\n",
    "xtrain, xtest = np.array(xtrain) / 100, np.array(xtest) / 100\n",
    "\n",
    "# Expand dimensions for the channel (3 for RGB)\n",
    "ytrain, ytest = np.array([np.expand_dims(item, axis=0) for item in list_train]), np.array([np.expand_dims(item, axis=0) for item in list_test])\n",
    "\n",
    "# Convert labels to one-hot encoding\n",
    "ytrain_ohe, ytest_ohe = to_categorical(ytrain), to_categorical(ytest)"
   ]
  },
  {
   "cell_type": "code",
   "execution_count": null,
   "id": "25a56bdd-d0ae-472f-929f-bde326c7175a",
   "metadata": {},
   "outputs": [],
   "source": [
    "def build_cnn_model(input_shape=(128,128,3)):\n",
    "    model = models.Sequential([\n",
    "        layers.Conv2D(32,(3,3), input_shape=(128,128,3),activation='relu'),\n",
    "        layers.MaxPool2D((2,2)),\n",
    "        layers.Dropout(0.15),\n",
    "\n",
    "        layers.Conv2D(64,(3,3),activation='relu'),\n",
    "        layers.MaxPool2D((2,2)),\n",
    "        layers.Dropout(0.2),\n",
    "\n",
    "        layers.Conv2D(128,(3,3),activation='relu'),\n",
    "        layers.MaxPool2D((2,2)),\n",
    "        layers.Dropout(0.2),\n",
    "\n",
    "        layers.Flatten(),\n",
    "        layers.Dense(512, activation='relu'),\n",
    "        layers.Dense(256, activation='relu'),\n",
    "        layers.Dense(len(classes), activation='softmax')\n",
    "    ])\n",
    "    return model"
   ]
  },
  {
   "cell_type": "code",
   "execution_count": null,
   "metadata": {},
   "outputs": [],
   "source": [
    "def build_siamese_model(input_shape=(128,128,3)):\n",
    "    input_a = tf.keras.Input(shape=input_shape)\n",
    "    input_b = tf.keras.Input(shape=input_shape)\n",
    "\n",
    "    base_model = build_cnn_model(input_shape)\n",
    "\n",
    "    processed_a = base_model(input_a)\n",
    "    processed_b = base_model(input_b)\n",
    "\n",
    "    distance = tf.keras.layers.Lambda(lambda x: tf.abs(x[0] - x[1]))([processed_a, processed_b])\n",
    "    output = layers.Dense(1, activation='sigmoid')(distance)\n",
    "\n",
    "    model = tf.keras.Model(inputs=[input_a, input_b], outputs=output)\n",
    "    return model"
   ]
  },
  {
   "cell_type": "code",
   "execution_count": null,
   "metadata": {},
   "outputs": [],
   "source": [
    "siamese_model = build_siamese_model()"
   ]
  },
  {
   "cell_type": "code",
   "execution_count": null,
   "id": "5253e7c4-c675-408c-b615-0c492cbe4dfc",
   "metadata": {},
   "outputs": [
    {
     "ename": "NameError",
     "evalue": "name 'model_training' is not defined",
     "output_type": "error",
     "traceback": [
      "\u001b[0;31m---------------------------------------------------------------------------\u001b[0m",
      "\u001b[0;31mNameError\u001b[0m                                 Traceback (most recent call last)",
      "Cell \u001b[0;32mIn[1], line 1\u001b[0m\n\u001b[0;32m----> 1\u001b[0m \u001b[43mmodel_training\u001b[49m\u001b[38;5;241m.\u001b[39mcompile(optimizer\u001b[38;5;241m=\u001b[39m\u001b[38;5;124m'\u001b[39m\u001b[38;5;124madam\u001b[39m\u001b[38;5;124m'\u001b[39m, loss\u001b[38;5;241m=\u001b[39m\u001b[38;5;124m'\u001b[39m\u001b[38;5;124mcategorical_crossentropy\u001b[39m\u001b[38;5;124m'\u001b[39m,metrics\u001b[38;5;241m=\u001b[39m[\u001b[38;5;124m'\u001b[39m\u001b[38;5;124maccuracy\u001b[39m\u001b[38;5;124m'\u001b[39m])\n\u001b[1;32m      2\u001b[0m history \u001b[38;5;241m=\u001b[39m model_training\u001b[38;5;241m.\u001b[39mfit(xtrain,ytrain_ohe,epochs\u001b[38;5;241m=\u001b[39m\u001b[38;5;241m10\u001b[39m,validation_data\u001b[38;5;241m=\u001b[39m(xtest,ytest_ohe))\n",
      "\u001b[0;31mNameError\u001b[0m: name 'model_training' is not defined"
     ]
    }
   ],
   "source": [
    "siamese_model.compile(optimizer='adam', loss='categorical_crossentropy',metrics=['accuracy'])\n",
    "history = siamese_model.fit(xtrain,ytrain_ohe,epochs=10,validation_data=(xtest,ytest_ohe))"
   ]
  },
  {
   "cell_type": "code",
   "execution_count": null,
   "id": "dc08858c-1348-4d72-ada4-32ccef8e5eee",
   "metadata": {},
   "outputs": [],
   "source": [
    "#Vẽ biểu đồ của accuracy và val_accuracy\n",
    "plt.plot(history.history['accuracy'], label='accuracy')\n",
    "plt.plot(history.history['val_accuracy'], label = 'val_accuracy')\n",
    "plt.xlabel('Epoch')\n",
    "plt.ylabel('Accuracy')\n",
    "plt.ylim([0.5, 1])\n",
    "plt.legend(loc='lower right')\n",
    "test_loss, test_acc = siamese_model.evaluate(xtest, ytest_ohe, verbose=2)\n",
    "plt.show()"
   ]
  },
  {
   "cell_type": "markdown",
   "id": "f393da82-86da-486a-b528-16ed0f2e6687",
   "metadata": {},
   "source": [
    "# Test"
   ]
  },
  {
   "cell_type": "code",
   "execution_count": null,
   "id": "af24f9f2-e940-4622-854d-3f1808159f97",
   "metadata": {},
   "outputs": [],
   "source": [
    "xtrain, list_train = Data(TRAIN_DATA, dictionary).operate()\n",
    "xtest, list_test = Data(TEST_DATA, dictionary).operate()\n",
    "xtrain, xtest = np.array(xtrain)/100, np.array(xtest)/100\n",
    "ytrain, ytest = np.array([np.expand_dims(item, axis=0) for item in list_train]), np.array([np.expand_dims(item, axis=0) for item in list_test])\n",
    "classes = list(dictionary.keys())"
   ]
  },
  {
   "cell_type": "code",
   "execution_count": null,
   "id": "5f03db06-d92e-4ebb-bb2d-8579a55a8a5a",
   "metadata": {},
   "outputs": [],
   "source": [
    "acc = 0\n",
    "fig = plt.figure(figsize=(15,15))\n",
    "for i in range(50):\n",
    "    plt.subplot(5,10,i+1)\n",
    "    #Vì dataset/train chưa đủ lớn, đa dạng nên để xtest thì tỷ lệ đúng ít, thử thay xtest, ytest thành xtrain, ytrain (tỉ lệ đúng khá cao)\n",
    "    plt.imshow(xtrain[i])\n",
    "    result = np.argmax(siamese_model.predict(xtrain[i].reshape((-1,128,128,3))))\n",
    "    if result == ytrain[i][0]:\n",
    "        acc +=1\n",
    "    plt.title(classes[result])\n",
    "    plt.grid(color='lightgray', linestyle='--')\n",
    "    plt.axis(\"off\")\n",
    "\n",
    "print(acc)\n",
    "plt.show()"
   ]
  }
 ],
 "metadata": {
  "kernelspec": {
   "display_name": "Python 3 (ipykernel)",
   "language": "python",
   "name": "python3"
  },
  "language_info": {
   "codemirror_mode": {
    "name": "ipython",
    "version": 3
   },
   "file_extension": ".py",
   "mimetype": "text/x-python",
   "name": "python",
   "nbconvert_exporter": "python",
   "pygments_lexer": "ipython3",
   "version": "3.10.12"
  }
 },
 "nbformat": 4,
 "nbformat_minor": 5
}
